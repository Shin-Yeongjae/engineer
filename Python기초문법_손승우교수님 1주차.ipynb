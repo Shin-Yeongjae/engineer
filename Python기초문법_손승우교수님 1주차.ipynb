{
 "cells": [
  {
   "cell_type": "markdown",
   "id": "618bbe2b",
   "metadata": {},
   "source": [
    "* script언어 \n",
    "  - 명령어를 한줄 한줄 입력해주면 한줄 한줄 읽어 처리해주는 언어, python이 이러한 형태를 가지고 있음 (matlab, R, python 등)\n",
    "  - 장점은, 한줄 한줄 실행/한꺼번에 실행 모두 가능하다는 것\n",
    "* compile 언어\n",
    "  - 작성한 프로그램을 모두 읽은 다음 그것을 실행 가능한 형태로 바꿔주게됨, compile의 단계를 거쳐야함\n",
    "\n",
    "* anaconda_jupyter\n",
    "  - 웹 브라우저에서 파이썬을 실행할 수 있도록 한 것"
   ]
  },
  {
   "cell_type": "markdown",
   "id": "a8232752",
   "metadata": {},
   "source": [
    "# 1. Variables & Assignment\n",
    "\n",
    "1) Variables\n",
    " - 길이 제한 없음\n",
    " - 문자, 숫자 모두 사용 가능하나, symbol은 쓸 수 없으나 유일하게 사용 가능한 것은 '_'임.\n",
    " - 숫자는 가장 앞에 올 수 없으며, 공백 포함 불가\n",
    " - 대문자, 소문자 따로 구분하게됨.\n",
    " - 파이썬 문법에서 사용하는 'reserved words'는 사용 불가 (예를 들면, for, if, while ... 등)\n",
    "\n",
    "2) Assignment\n",
    " - 변수명에 어떤 값을 넣어주는 것\n",
    " - Assignment state : '='를 사용해줌, 오른쪽의 값을 왼쪽에 넣어준다."
   ]
  },
  {
   "cell_type": "markdown",
   "id": "f974213d",
   "metadata": {},
   "source": [
    "# 2. Variable Types\n",
    "\n",
    "1) Integer : 정수형 (1)\n",
    "\n",
    "2) Float : 소수형 (1.0)\n",
    "\n",
    "3) Complex : 복소수 (1.2e34)\n",
    "\n",
    "4) String - variable type : 문자\n",
    "  - ex) x = \"This is a string\"\n",
    "  - ex2) x = \"1.234\"\n",
    "   \n",
    "5) 변수형을 바꿀 경우\n",
    "   - ex) x = float(1) : x에 1을 floating point variable로 저장해줌\n",
    "   - ex2) x = complex(1.5) : x에 1.5을 1.5+0j로 저장해줌"
   ]
  },
  {
   "cell_type": "code",
   "execution_count": null,
   "id": "d4c287ec",
   "metadata": {},
   "outputs": [],
   "source": [
    "x=float(2)\n",
    "x\n",
    "x?"
   ]
  },
  {
   "cell_type": "code",
   "execution_count": 1,
   "id": "bfc36518",
   "metadata": {},
   "outputs": [
    {
     "name": "stdout",
     "output_type": "stream",
     "text": [
      "(2+0j)\n"
     ]
    }
   ],
   "source": [
    "y=complex(2)\n",
    "y?\n",
    "print(y)"
   ]
  },
  {
   "cell_type": "code",
   "execution_count": 3,
   "id": "a40b4e52",
   "metadata": {},
   "outputs": [],
   "source": [
    "x=\"1.234\"\n",
    "x?\n",
    "\n",
    "x[0] #x에서 첫번째 있는 것을 보여줌\n",
    "x[1] #x에서 두번째 있는 것을 보여줌\n",
    "x[2] #x에서 세번째 있는 것을 보여줌\n",
    "# x라는 문자열을 벡터나 리스트의 형태로 보관하고 있고 그것을 하나하나 보여줌"
   ]
  },
  {
   "cell_type": "code",
   "execution_count": null,
   "id": "ab4b9fa9",
   "metadata": {},
   "outputs": [],
   "source": [
    "# 3. Output statement로는 \"print\"가 있음\n",
    "\n",
    "print(\"x=\", x, \"y=\", y)\n",
    "print(\"x=\", x, \"y=\", y, sep=\"___\")\n",
    "print(\"x=\", x, \"y=\", y, sep=\"...\")"
   ]
  },
  {
   "cell_type": "code",
   "execution_count": null,
   "id": "21817490",
   "metadata": {},
   "outputs": [],
   "source": [
    "# 4. Input Statement로는 \"input\"이 있음 (입력값은 기본적으로 string으로 받아들임)\n",
    "\n",
    "x = input()\n",
    "\n",
    "x = input(\"Enter the value of x : \")\n",
    "print(x)\n",
    "x?\n",
    "\n",
    "#입력값을 float으로 넣으면 오류 발생\n",
    "x = int(input(\"Enter the value of x : \")) #x의 datatype을 int로 변경\n",
    "print(x)\n",
    "x?\n",
    "\n",
    "x = complex(input(\"Enter the value of x : \"))\n",
    "print(x)\n",
    "x?"
   ]
  },
  {
   "cell_type": "markdown",
   "id": "e824e83f",
   "metadata": {},
   "source": [
    "# 5. Arithmetic\n",
    "\n",
    "- addition x+y\n",
    "- subtraction x-y\n",
    "- multiplication x*y\n",
    "- division x/y\n",
    "- raising x to the power of y x**y (x의 y승)\n",
    "\n",
    "\n",
    "- integer division x//y (x를 y로 나눴을 때 몫)\n",
    "- modulo operation x%y (x를 y로 나눴을 때 나머지)\n",
    "\n",
    "** 위 2가지는 complex variable에 대해서는 사용 할 수 없음"
   ]
  },
  {
   "cell_type": "markdown",
   "id": "3dbe7e3a",
   "metadata": {},
   "source": [
    "# 6. Bitwise operators\n",
    "\n",
    "x, y를 컴퓨터 상에 써주게 되면 x, y 값이 그냥 기록되는 것이 아니라 datatype이 binary(2진법)로 기록이 됨.\n",
    "\n",
    "2진법으로 표시됐을 때 한자리 한자리가 bit임. 따라서 bit에 대한 계산을 한다는 것.\n",
    "\n",
    "- x|y bitwise (binary) OR (둘 중 하나의 값이 1일 경우 1을 반환)\n",
    "- x&y bitwise (binary) AND (둘 다 값이 1일 경우 1을 반환)\n",
    "- x^y bitwise (binary) XOR (둘 다 값이 다를 경우 1을 반환)\n",
    "- x>>y shift the bits of integer x rightwards y places\n",
    "  - x라는 integer를 y만큼 오른쪽으로 바꿔줌\n",
    "  - 좌측으로 y회 비트 밀기\n",
    "- x<<y shift the bits of integer x leftwards y places\n",
    "  - 우측으로 y회 비트 밀기"
   ]
  },
  {
   "cell_type": "code",
   "execution_count": 4,
   "id": "1c48b63e",
   "metadata": {},
   "outputs": [
    {
     "data": {
      "text/plain": [
       "0"
      ]
     },
     "execution_count": 4,
     "metadata": {},
     "output_type": "execute_result"
    }
   ],
   "source": [
    "x=1 # 2진법으로는 0, 1\n",
    "y=2 # 2진법으로는 1, 0\n",
    "x|y \n",
    "x&y\n",
    "x^y\n",
    "x<<1\n",
    "x<<2\n",
    "x>>2\n",
    "x>>4"
   ]
  },
  {
   "cell_type": "code",
   "execution_count": 22,
   "id": "f049b3ac",
   "metadata": {},
   "outputs": [
    {
     "data": {
      "text/plain": [
       "'0b11'"
      ]
     },
     "execution_count": 22,
     "metadata": {},
     "output_type": "execute_result"
    }
   ],
   "source": [
    "# https://dojang.io/mod/page/view.php?id=2460\n",
    "# 비트를 오른쪽으로 이동시켰을 때 1이 들어갈 공간이 없다면 1은 사라집니다. \n",
    "# 즉, 계속 비트를 오른쪽으로 이동시키면 1은 모두 사라지고 최종 결과는 0b0\n",
    "\n",
    "# 내 생각엔 왼쪽으로 움직이는 것은 0이 뒤에 붙는 것이고, 오른쪽으로 움직이는 것은 뒤에가 없어지는 것\n",
    "\n",
    "0b0011 << 2    # 비트를 왼쪽으로 2번 이동\n",
    "bin(12)\n",
    "\n",
    "0b1100 >> 2    # 비트를 오른쪽으로 2번 이동\n",
    "bin(3)"
   ]
  },
  {
   "cell_type": "markdown",
   "id": "27d738f3",
   "metadata": {},
   "source": [
    "# 7. Python modifiers\n",
    "\n",
    "- x += 1\n",
    "  : x에 1을 더해서 x를 출력\n",
    "- x -= 4\n",
    "  : x에 4를 빼서 x를 출력\n",
    "- x *= -2.6\n",
    "  : x에 -2.6을 곱해서 x를 출력\n",
    "- x /= 5*y\n",
    "  : x를 5*y한 값으로 나눠서 x를 출력\n",
    "- x //= 3.4\n",
    "  : x를 3.4로 나눠서 그 몫을 x로 출력\n",
    "\n",
    "- x, y = 1, 2.5\n",
    "  - 파이썬에서는 각각의 변수를 ,(콤마)로 연결한 구조를 튜플로 이해, 튜플과 튜플을 assign하는 것을 허용함\n",
    "  - x에 1을 assign, y에 2.5를 assign\n",
    "- x, y = y, x\n",
    "  - x와 y 값을 바꿀 수 있음"
   ]
  },
  {
   "cell_type": "code",
   "execution_count": 36,
   "id": "4476758d",
   "metadata": {},
   "outputs": [],
   "source": [
    "x, y\n",
    "x, y = y, x"
   ]
  },
  {
   "cell_type": "code",
   "execution_count": 37,
   "id": "2434dc50",
   "metadata": {},
   "outputs": [
    {
     "data": {
      "text/plain": [
       "(3, 1)"
      ]
     },
     "execution_count": 37,
     "metadata": {},
     "output_type": "execute_result"
    }
   ],
   "source": [
    "x, y"
   ]
  }
 ],
 "metadata": {
  "kernelspec": {
   "display_name": "Python 3",
   "language": "python",
   "name": "python3"
  },
  "language_info": {
   "codemirror_mode": {
    "name": "ipython",
    "version": 3
   },
   "file_extension": ".py",
   "mimetype": "text/x-python",
   "name": "python",
   "nbconvert_exporter": "python",
   "pygments_lexer": "ipython3",
   "version": "3.8.8"
  }
 },
 "nbformat": 4,
 "nbformat_minor": 5
}
