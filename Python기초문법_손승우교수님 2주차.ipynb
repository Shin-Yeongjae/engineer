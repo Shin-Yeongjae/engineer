{
 "cells": [
  {
   "cell_type": "markdown",
   "id": "91c3e52b",
   "metadata": {},
   "source": [
    "# 1. Packages\n",
    "\n",
    " - Python은 여러 유용한 툴들을 라이브러리의 형태인 package로 저장하고 있음\n",
    " - 예를 들면\n",
    "    - \"math\" package 안에 여러 mathematical function들이 있음\n",
    " - Packages를 불러오려면\n",
    "    - from math import log\n",
    "      - \"math\"라는 package로 부터 log라는 함수를 불러오라는 의미4\n",
    "    - from math import *\n",
    "      - \"math\" package의 모든 함수를 불러올 수 있음\n",
    "      \n",
    " - python의 math package는 complex number는 지원하지 않음. float 지원\n",
    " - complex number를 다루는 package는 \"cmath\" package 사용 (float도 지원)"
   ]
  },
  {
   "cell_type": "markdown",
   "id": "1442aae3",
   "metadata": {},
   "source": [
    "# 2. Modules\n",
    " \n",
    "- 큰 Package의 경우 그 안에 smaller sub-packages를 갖는 경우 있음. 그것이 module\n",
    "- module은 \".\"으로 구분\n",
    "- 대표적인 것이 numpy package\n",
    "    - numpy package 안에 linear algebra, Fourier transforms 등이 있음\n",
    "        - ex) Linear algebra modlue - numpy.linalg\n",
    "        - ex) Fourier transform module - numpy.fft\n",
    "    - 사용 예시\n",
    "        - from numpy.linalg import inv"
   ]
  },
  {
   "cell_type": "markdown",
   "id": "70477cc1",
   "metadata": {},
   "source": [
    "# 3. Built-in Functions\n",
    "\n",
    "- 특정 packages를 불러들이지 않고 기본적으로 가지고 있는 function\n",
    "- 별다른 import 과정 필요 없음\n",
    "\n",
    "\n",
    "- float, int, complex : datatype 바꿔주는 함수\n",
    "- abs : absolute value or modulus (절대값)\n",
    "- input, print\n",
    "- ..."
   ]
  },
  {
   "cell_type": "markdown",
   "id": "cec3a0ce",
   "metadata": {},
   "source": [
    "# 4. \"IF\" Statement\n",
    "\n",
    "- 프로그램에서 어떤 조건이 있을 때 가장 기본이 되는 뼈대\n",
    "- 형태\n",
    "    - 반드시 if 조건 뒤에 \":\" 붙여줘야함\n",
    "    - if 조건 :\n",
    "\n",
    "            조건이 만족할 때 수행할 내용\n",
    "    - \"else\"\n",
    "\n",
    "        if 조건 :\n",
    "            조건이 만족할 때 수행할 내용\n",
    "        else :\n",
    "            조건이 만족하지 않을 때 수행할 내용\n",
    "\n",
    "    - \"elif\"\n",
    "\n",
    "        if 조건 :\n",
    "            조건이 만족할 때 수행할 내용\n",
    "        elif 조건2 :\n",
    "            조건2가 만족할 때 수행할 내용\n",
    "\n",
    "- if x==1 :\n",
    "- if x > 1 :\n",
    "- if x >= 1 :\n",
    "- if x < 1 :\n",
    "- if x <= 1 :\n",
    "- if x != 1 :\n",
    "\n",
    "- if x>10 or x<1 :\n",
    "- if x<=10 and x>=1 :\n",
    "\n"
   ]
  },
  {
   "cell_type": "markdown",
   "id": "5ea9307b",
   "metadata": {},
   "source": [
    "# 5. \"WHILE\" Statement\n",
    "\n",
    "- ~하는 동안 계속 ~ 해라\n",
    "\n",
    "- 형태\n",
    "\n",
    "    while 조건 :\n",
    "        조건이 만족할 경우 반복할 내용\n",
    "        \n",
    "- While loop\n",
    "  - 조건문 내에 \"and\", \"or\" 등을 사용할 수 있음\n",
    "  - break, continue"
   ]
  },
  {
   "cell_type": "code",
   "execution_count": 3,
   "id": "6cd33642",
   "metadata": {},
   "outputs": [
    {
     "name": "stdout",
     "output_type": "stream",
     "text": [
      "This is greater than ten. Try again\n",
      "Enter a number : 13\n",
      "This is greater than ten. Try again\n",
      "Enter a number : 2\n"
     ]
    }
   ],
   "source": [
    "# break의 예시\n",
    "\n",
    "x=14\n",
    "while x>10 :\n",
    "    print (\"This is greater than ten. Try again\")\n",
    "    x = int(input(\"Enter a number : \"))\n",
    "    if x==111 :\n",
    "        break"
   ]
  },
  {
   "cell_type": "markdown",
   "id": "6b29946f",
   "metadata": {},
   "source": [
    "# 6. Lists and Arrays\n",
    "\n",
    "-  list : python에서 가장 기본이 되는 컨테이너\n",
    "  - \"elements\"를 배열의 형태로 보관\n",
    "  - 이 elements는 같은 type의 변수일 필요가 없음\n",
    "      - ex) [1, 2.5, 3+4.6j]\n",
    "  - list 선언법\n",
    "      - r = [1, 2, 3, 4, 5, 56, 67, 32] \n",
    "      - r[0], r[1], r[2]"
   ]
  },
  {
   "cell_type": "code",
   "execution_count": 10,
   "id": "00f1cc2d",
   "metadata": {},
   "outputs": [
    {
     "data": {
      "text/plain": [
       "[1, 2, 4, 6, 7, 9, 12, 23, 34, 56, 36, 54]"
      ]
     },
     "execution_count": 10,
     "metadata": {},
     "output_type": "execute_result"
    }
   ],
   "source": [
    "r = [1, 2, 4, 6, 7, 9, 12, 23, 34, 56, 36, 54]\n",
    "r?\n",
    "r[0]\n",
    "r[:]"
   ]
  },
  {
   "cell_type": "code",
   "execution_count": 11,
   "id": "9550bbbf",
   "metadata": {},
   "outputs": [
    {
     "name": "stdout",
     "output_type": "stream",
     "text": [
      "[1, 2, 4, 6, 7, 9, 12, 23, 34, 56, 36, 54]\n",
      "[1, 2, 4, 5, 7, 9, 12, 23, 34, 56, 36, 54]\n",
      "[1, 2, 4, 5, 7, 9, 12, 23, 34, 56, 36, 54]\n"
     ]
    }
   ],
   "source": [
    "a = r\n",
    "print(a)\n",
    "a[3]=5\n",
    "print(a)\n",
    "print(r) # a를 바꿔주면 r도 함께 바뀜"
   ]
  },
  {
   "cell_type": "code",
   "execution_count": null,
   "id": "2235eb45",
   "metadata": {},
   "outputs": [],
   "source": [
    "# a=r을 했을 때 a와 r이 함께 바뀌는 것을 방지하기 위해\n",
    "a = r.copy()"
   ]
  },
  {
   "cell_type": "markdown",
   "id": "ba36cd44",
   "metadata": {},
   "source": [
    "# 7. Lists\n",
    "\n",
    "r=[1.0, 1.5, -2.2]\n",
    "\n",
    "- total = sum(r)\n",
    "- mean = sum(r)/len(r)\n",
    "- max(r)\n",
    "- min(r)\n",
    "\n",
    "- log(r)\n",
    "    - math package의 log함수에서 list는 지원되지 않음. 이럴 경우,\n",
    "    - map(log, r) 사용\n",
    "    \n",
    "- append\n",
    "    - list에 새로운 element를 추가하고 싶을 경우 사용\n",
    "    - r.append(6.1)\n",
    "- pop\n",
    "    - list의 elements 중 가장 마지막 값을 출력해주고 list에서 그 값을 없애버림\n",
    "    - pop에 index를 주고 싶은 경우\n",
    "        - r.pop(0) : 0번째 element를 출력해주고 없애버림.\n",
    "- empty list도 만들 수 있음\n",
    "    - ex) r = []"
   ]
  },
  {
   "cell_type": "code",
   "execution_count": 13,
   "id": "c92e344f",
   "metadata": {},
   "outputs": [
    {
     "data": {
      "text/plain": [
       "[0.0,\n",
       " 0.6931471805599453,\n",
       " 1.3862943611198906,\n",
       " 1.6094379124341003,\n",
       " 1.9459101490553132,\n",
       " 2.1972245773362196,\n",
       " 2.4849066497880004,\n",
       " 3.1354942159291497,\n",
       " 3.5263605246161616,\n",
       " 4.02535169073515,\n",
       " 3.58351893845611,\n",
       " 3.9889840465642745]"
      ]
     },
     "execution_count": 13,
     "metadata": {},
     "output_type": "execute_result"
    }
   ],
   "source": [
    "list(map(log, r))"
   ]
  },
  {
   "cell_type": "markdown",
   "id": "1e8b965f",
   "metadata": {},
   "source": [
    "# 8. Arrays\n",
    "\n",
    "- 입력한 순서대로 보관해주는 컨테이너\n",
    "- array의 element의 개수는 고정됨\n",
    "    - 내부 값 자체는 바꿀 수 있으나 (크기가 고정되는 선에서)\n",
    "    - element를 추가하거나 제거할 수 없음\n",
    "- element의 type이 모두 다 같아야 하며, 그 type을 유지해야함\n",
    "- 계산의 수행은 list보다 빨라 많이 사용함\n",
    "    - 2-dimension, 3-dimension을 만들어서 matrix algebra를 하는 것을 지원\n",
    "    - vector와 matrix처럼 행동하기 때문에, 수학 계산을 바로 적용 가능\n",
    "- array는 list보다 훨씬 빠름\n",
    "\n",
    "- array는 built-in 함수가 아니라 numpy에 구현이 되어 있음\n",
    "    - from numpy import zeros\n",
    "    - a = zeros(4, float)\n",
    "        - size 4에 0을 채워넣은 float type의 array를 만들어라\n",
    "        \n",
    "- 2차원 array 만들기\n",
    "    - zeros([m, n], float)\n",
    "        - 예를 들면, a = zeros([3, 4], float)\n",
    "        \n",
    "- ones 함수\n",
    "    - zeros와 비슷하게 array를 만드는 함수\n",
    "    - zeros가 0으로 채웠다면 ones는 1로 채움\n",
    "    - from numpy import ones\n",
    "\n",
    "- empty 함수\n",
    "    - array를 만드는 함수인데\n",
    "    - 어떤 값이 assign되어 있는지 알지 못함\n",
    "    - from numpy import empty\n",
    "    - 예시) a = empty(4, float)\n",
    "\n",
    "- array 함수\n",
    "    - 어떤 list의 element를 그대로 한채 array로 바꿔줄 수 있음\n",
    "    - 예시) r = [1.0, 1.5, -2.2] r이라는 list를\n",
    "        - a = array(r, float)  : list를 array로 바꿔줌\n",
    "        - a = array([1.0, 1.5, -2.2], float)\n",
    "    - 2차원의 경우\n",
    "        - a = array([[1, 2, 3], [4, 5, 6]], int) # list의 list 가능\n",
    "    "
   ]
  },
  {
   "cell_type": "markdown",
   "id": "f6f93c5f",
   "metadata": {},
   "source": [
    "# * 각 elements 불러오는 법\n",
    "\n",
    "\",\"로 연결된 것을 tuple이라고 함 ex) [1, 1]\n",
    "\n",
    "- list를 불러올 때\n",
    "    - list의 index는 integers나 slices만 가능, tuple은 불가능\n",
    "    - list[0][1] 가능, list[0, 1] 불가능, list [0:] 가능\n",
    "- array를 불러올 떼\n",
    "    - array[0][1] 가능, array[1, 3] 가능, array[0:] 가능\n"
   ]
  },
  {
   "cell_type": "code",
   "execution_count": 19,
   "id": "6de042a1",
   "metadata": {},
   "outputs": [
    {
     "name": "stdout",
     "output_type": "stream",
     "text": [
      "[[0. 0. 0. 0.]\n",
      " [0. 0. 0. 0.]\n",
      " [0. 0. 0. 0.]]\n"
     ]
    }
   ],
   "source": [
    "from numpy import zeros\n",
    "from numpy import array\n",
    "\n",
    "a=zeros(4, float)\n",
    "a[1]=1 # a의 1번째를 1로 변경\n",
    "\n",
    "b = zeros([3, 4], float)\n",
    "print(b)\n",
    "\n",
    "# list의 list\n",
    "c = [1, 4, 6, 8, 23, [3, 5]]\n",
    "print(c[-1]) # list가 하나의 element"
   ]
  },
  {
   "cell_type": "markdown",
   "id": "9379bb79",
   "metadata": {},
   "source": [
    "# 9. Reading an array from a file\n",
    "\n",
    "파일로부터 array를 불러오고 싶을 경우\n",
    "\n",
    "- loadtxt 함수\n",
    "    - numpy에 있는 함수로, text를 직접 읽어와 array로 저장해주는 함수\n",
    "    - 2차원 array도 가능\n",
    "    - from numpy import loadtxt\n",
    "      a = loadtxt (\"values.txt\", float)\n",
    "      print(a)"
   ]
  },
  {
   "cell_type": "code",
   "execution_count": 27,
   "id": "873a0ae8",
   "metadata": {},
   "outputs": [
    {
     "name": "stdout",
     "output_type": "stream",
     "text": [
      "[1 7 3 4]\n",
      "[1 7 3 4]\n"
     ]
    }
   ],
   "source": [
    "a = array([1, 2, 3, 4], int)\n",
    "b = a\n",
    "b[1] = 7 # a[1]도 7로 바뀜, list와 같은 현상이 일어나 \n",
    "print(b)\n",
    "print(a)"
   ]
  },
  {
   "cell_type": "code",
   "execution_count": 28,
   "id": "c560223c",
   "metadata": {
    "scrolled": true
   },
   "outputs": [
    {
     "name": "stdout",
     "output_type": "stream",
     "text": [
      "[1 2 3 4]\n",
      "[2 4 6 8]\n",
      "[2 3 4 5]\n"
     ]
    }
   ],
   "source": [
    "# 10. Array Arithmetics\n",
    "\n",
    "# 아래와 같은 연산도 가능\n",
    "# a[0]= a[1] + 1\n",
    "# x = a[2] ** 2 - 2 * a[3] / y\n",
    "\n",
    "from numpy import array\n",
    "a = array([1, 2, 3, 4], int)\n",
    "b = 2 * a # copy로 생각해서 a가 바뀐다고 b도 바뀌지 않음\n",
    "print(a)\n",
    "print(b)\n",
    "\n",
    "# 아래와 같은 연산도 가능\n",
    "# print(a+1)\n",
    "# print(a+b)\n",
    "# print(a*b) - not a dot (vector) product, vector product가 있을수도 있는데 기본적으로 element wise product임"
   ]
  },
  {
   "cell_type": "code",
   "execution_count": 29,
   "id": "eb8443ae",
   "metadata": {
    "scrolled": true
   },
   "outputs": [
    {
     "data": {
      "text/plain": [
       "60"
      ]
     },
     "execution_count": 29,
     "metadata": {},
     "output_type": "execute_result"
    }
   ],
   "source": [
    "# vector product를 하고 싶으면 dot 함수를 사용하면됨\n",
    "from numpy import dot\n",
    "dot(a, b)# a와 b의 vector product를 수행하게됨"
   ]
  },
  {
   "cell_type": "code",
   "execution_count": 30,
   "id": "6f4d59d1",
   "metadata": {},
   "outputs": [
    {
     "name": "stdout",
     "output_type": "stream",
     "text": [
      "[[12  5]\n",
      " [20  2]]\n"
     ]
    }
   ],
   "source": [
    "a = array([[1, 3], [2, 4]], int)\n",
    "b = array([[4, -2], [2, 1]], int)\n",
    "c = array([[1, 2], [2, 1]], int)\n",
    "\n",
    "print(dot(a, b) + 2*c)"
   ]
  },
  {
   "cell_type": "markdown",
   "id": "e962627b",
   "metadata": {},
   "source": [
    "# 11. Built-in functions\n",
    "\n",
    "- sum, max, min, len : 1-dimension에 대해서 사용 가능\n",
    "- map function\n",
    "    - b = array(map(sqrt, a), float)\n",
    "\n",
    "- numpy 안에 min, max, size, shape이라는 함수가 정의되어 있음"
   ]
  },
  {
   "cell_type": "code",
   "execution_count": 33,
   "id": "e0ce46af",
   "metadata": {},
   "outputs": [
    {
     "name": "stdout",
     "output_type": "stream",
     "text": [
      "6\n",
      "(2, 3)\n"
     ]
    }
   ],
   "source": [
    "a = array([[1, 2, 3], [4, 5, 6]], int)\n",
    "print(a.size)\n",
    "print(a.shape)"
   ]
  },
  {
   "cell_type": "markdown",
   "id": "cfcf9bb7",
   "metadata": {},
   "source": [
    "# 12. \"For\" Loops\n",
    "\n",
    "- 어떠한 1차원 array나 1차원 list를 가지고 있을 때, 그 list의 element를 순서대로 다 돌고 싶을때 사용\n",
    "- break와 continue를 사용할 수 있음"
   ]
  },
  {
   "cell_type": "code",
   "execution_count": 4,
   "id": "52621f5c",
   "metadata": {},
   "outputs": [
    {
     "name": "stdout",
     "output_type": "stream",
     "text": [
      "1\n",
      "2\n",
      "3\n",
      "6\n",
      "5\n",
      "10\n",
      "Finished\n"
     ]
    },
    {
     "data": {
      "text/plain": [
       "[0, 1, 2, 3, 4]"
      ]
     },
     "execution_count": 4,
     "metadata": {},
     "output_type": "execute_result"
    }
   ],
   "source": [
    "# For loop 예시\n",
    "\n",
    "r = [1, 3, 5]\n",
    "for n in r :\n",
    "    print(n)\n",
    "    print(2*n)\n",
    "print(\"Finished\")"
   ]
  },
  {
   "cell_type": "markdown",
   "id": "30f091ac",
   "metadata": {},
   "source": [
    "# 13. range function\n",
    "\n",
    "- 연속적으로 증가하는 정수 열이 있는 list를 만듦 (integer 정수만 적용 가능)\n",
    "- 예를들어, range(5)이면, list[0, 1, 2, 3, 4]가 만들어지는 것\n",
    "    - 개념적으로는 list를 만드는 것이지만 사실은 그 안에서 iterator로 만들어지는 것 (진짜 만들면 메모리를 너무 많이 차지해서)\n",
    "    - 진짜 물리적인 list를 만드려면, list(range(5))\n",
    "\n",
    "\n",
    "- range(5) gives [0, 1, 2, 3, 4]\n",
    "- range(2, 8) gives [2, 3, 4, 5, 6, 7]\n",
    "- range(2, 20, 3) gives [2, 5, 8, 11, 14, 17]\n",
    "- range(20, 2, -3) gives [20, 17, 14, 11, 8, 5]"
   ]
  },
  {
   "cell_type": "code",
   "execution_count": null,
   "id": "ef8ecd1c",
   "metadata": {},
   "outputs": [],
   "source": [
    "# range function\n",
    "\n",
    "range(5)\n",
    "list(range(5))\n",
    "\n",
    "r = range(5)\n",
    "for n in r :\n",
    "    print(\"Hello again\")\n",
    "    \n",
    "r = range(5)\n",
    "for n in r :\n",
    "    print(n**2)\n",
    "\n",
    "for n in range(5) :\n",
    "    print(n**2)"
   ]
  },
  {
   "cell_type": "markdown",
   "id": "187ef9fd",
   "metadata": {},
   "source": [
    "# 14. Arange function from numpy\n",
    "\n",
    "- range function과 같은 기능을 하지만 \"float 소수\"에 적용 가능한 함수\n",
    "- iterator를 만들어 내는 것이 아니라 array를 만들어냄 (실제 물리적인)\n",
    "\n",
    "\n",
    "- arange(1, 8, 2) gives [1, 3, 5, 7] \n",
    "- arange(1.0, 8.0, 2.0) gives [1.0, 3.0, 5.0, 7.0]"
   ]
  },
  {
   "cell_type": "markdown",
   "id": "12e697d6",
   "metadata": {},
   "source": [
    "# 15. linspace function from numpy\n",
    "\n",
    "- floating point value를 가지고 있으면서, array를 만들어냄\n",
    "- linspace(a, b, c) : a에서 시작해서 b를 포함하고 등간격으로 하며, 그 안에 size가 c인(c개의 element를 가진) array를 만들어냄\n",
    "\n",
    "\n",
    "- linspace(2.0, 2.8, 5) gives array[2.0, 2.2, 2.4, 2.6, 2.8]"
   ]
  },
  {
   "cell_type": "code",
   "execution_count": null,
   "id": "c0018be4",
   "metadata": {},
   "outputs": [],
   "source": [
    "# 16. User-defined Functions\n",
    "\n",
    "# 형태\n",
    "# def 함수이름(함수에서 받고자 하는 argument) : \n",
    "    # 계산할 내용\n",
    "    # return 출력할 내용\n",
    "\n",
    "# 정의한 function 내부의 변수는 그 정의한 함수 내부에서만 적용이 되는 local variable로 적용이 됨\n",
    "\n",
    "# define function을 여러 개 만들어 define.py로 저장하고 불러올 때, 그 중 myfunction이라는 function도 있다면,\n",
    "# from define import myfunction\n",
    "# 이라고 불러와주면 됨\n",
    "\n",
    "# 예시1\n",
    "def factorial(n) :\n",
    "    f = 1.0\n",
    "    for k in range(1, n+1) :\n",
    "        f *= k\n",
    "    return f\n",
    "\n",
    "# 예시2\n",
    "def cartesian(r, theta) :\n",
    "    x = r*cos(theta)\n",
    "    y = r*sin(theta)\n",
    "    position = [x, y]\n",
    "    return position"
   ]
  },
  {
   "cell_type": "markdown",
   "id": "f3bbd88d",
   "metadata": {},
   "source": [
    "# 17. Multiple assignment\n",
    "\n",
    "- x, y = a, b\n",
    "\n",
    "- define function에서 return 값을 \"a, b\" 이렇게 tuple의 형태로 할 수 있으나 만약 그렇게 할 경우,\n",
    "    - x, y = f(1)\n",
    "    - 이렇게 받아주는 것도 tuple의 형태로 받아줘야함"
   ]
  },
  {
   "cell_type": "markdown",
   "id": "355f7026",
   "metadata": {},
   "source": [
    "소인수분해 !!!"
   ]
  }
 ],
 "metadata": {
  "kernelspec": {
   "display_name": "Python 3",
   "language": "python",
   "name": "python3"
  },
  "language_info": {
   "codemirror_mode": {
    "name": "ipython",
    "version": 3
   },
   "file_extension": ".py",
   "mimetype": "text/x-python",
   "name": "python",
   "nbconvert_exporter": "python",
   "pygments_lexer": "ipython3",
   "version": "3.8.8"
  }
 },
 "nbformat": 4,
 "nbformat_minor": 5
}
